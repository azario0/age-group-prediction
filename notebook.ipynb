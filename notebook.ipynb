{
 "cells": [
  {
   "cell_type": "code",
   "execution_count": null,
   "metadata": {
    "_cell_guid": "b1076dfc-b9ad-4769-8c92-a6c4dae69d19",
    "_uuid": "8f2839f25d086af736a60e9eeb907d3b93b6e0e5",
    "execution": {
     "iopub.execute_input": "2025-03-22T22:27:56.808892Z",
     "iopub.status.busy": "2025-03-22T22:27:56.808467Z",
     "iopub.status.idle": "2025-03-22T22:28:22.840160Z",
     "shell.execute_reply": "2025-03-22T22:28:22.839093Z",
     "shell.execute_reply.started": "2025-03-22T22:27:56.808857Z"
    },
    "trusted": true
   },
   "outputs": [],
   "source": [
    "import requests\n",
    "import matplotlib.pyplot as plt\n",
    "from transformers import ViTFeatureExtractor, ViTForImageClassification\n",
    "from PIL import Image\n",
    "import torch\n",
    "from io import BytesIO"
   ]
  },
  {
   "cell_type": "code",
   "execution_count": null,
   "metadata": {
    "execution": {
     "iopub.execute_input": "2025-03-22T22:28:22.842098Z",
     "iopub.status.busy": "2025-03-22T22:28:22.841410Z",
     "iopub.status.idle": "2025-03-22T22:28:25.380404Z",
     "shell.execute_reply": "2025-03-22T22:28:25.378836Z",
     "shell.execute_reply.started": "2025-03-22T22:28:22.842068Z"
    },
    "trusted": true
   },
   "outputs": [],
   "source": [
    "# Init model, transforms\n",
    "model = ViTForImageClassification.from_pretrained('nateraw/vit-age-classifier')\n",
    "feature_extractor = ViTFeatureExtractor.from_pretrained('nateraw/vit-age-classifier')"
   ]
  },
  {
   "cell_type": "code",
   "execution_count": null,
   "metadata": {
    "execution": {
     "iopub.execute_input": "2025-03-22T22:27:47.467255Z",
     "iopub.status.busy": "2025-03-22T22:27:47.466895Z",
     "iopub.status.idle": "2025-03-22T22:27:47.472369Z",
     "shell.execute_reply": "2025-03-22T22:27:47.471015Z",
     "shell.execute_reply.started": "2025-03-22T22:27:47.467226Z"
    },
    "trusted": true
   },
   "outputs": [],
   "source": [
    "# Define age group labels with corresponding age ranges\n",
    "age_groups = {\n",
    "    0: \"0-2 years\",\n",
    "    1: \"3-9 years\",\n",
    "    2: \"10-19 years\",\n",
    "    3: \"20-29 years\",\n",
    "    4: \"30-39 years\",\n",
    "    5: \"40-49 years\",\n",
    "    6: \"50-59 years\",\n",
    "    7: \"60-69 years\",\n",
    "    8: \"70+ years\"\n",
    "}"
   ]
  },
  {
   "cell_type": "code",
   "execution_count": null,
   "metadata": {
    "execution": {
     "iopub.execute_input": "2025-03-22T22:27:53.349823Z",
     "iopub.status.busy": "2025-03-22T22:27:53.349514Z",
     "iopub.status.idle": "2025-03-22T22:27:53.357173Z",
     "shell.execute_reply": "2025-03-22T22:27:53.355814Z",
     "shell.execute_reply.started": "2025-03-22T22:27:53.349798Z"
    },
    "trusted": true
   },
   "outputs": [],
   "source": [
    "def predict_age(image_path_or_url):\n",
    "    \"\"\"\n",
    "    Predicts the age group from an image.\n",
    "    Displays the image in a small format before prediction.\n",
    "    \n",
    "    Args:\n",
    "        image_path_or_url (str): Path to a local image or URL of an image.\n",
    "    \n",
    "    Returns:\n",
    "        str: Predicted age group.\n",
    "    \"\"\"\n",
    "    # Load image from local file or URL\n",
    "    if image_path_or_url.startswith(\"http\"):\n",
    "        response = requests.get(image_path_or_url)\n",
    "        image = Image.open(BytesIO(response.content))\n",
    "    else:\n",
    "        image = Image.open(image_path_or_url)\n",
    "    \n",
    "    # Display the image in a small format\n",
    "    plt.figure(figsize=(3, 3))  # Adjust size as needed\n",
    "    plt.imshow(image)\n",
    "    plt.axis(\"off\")  # Hide axes\n",
    "    plt.show()\n",
    "\n",
    "    # Preprocess the image\n",
    "    inputs = feature_extractor(images=image, return_tensors=\"pt\")\n",
    "\n",
    "    # Perform inference\n",
    "    with torch.no_grad():\n",
    "        outputs = model(**inputs)\n",
    "\n",
    "    # Get predicted class index\n",
    "    predicted_index = outputs.logits.argmax(dim=1).item()\n",
    "\n",
    "    # Get corresponding age group\n",
    "    predicted_age_group = age_groups.get(predicted_index, \"Unknown age group\")\n",
    "\n",
    "    return predicted_age_group"
   ]
  },
  {
   "cell_type": "code",
   "execution_count": null,
   "metadata": {
    "execution": {
     "iopub.execute_input": "2025-03-22T22:28:25.382899Z",
     "iopub.status.busy": "2025-03-22T22:28:25.382484Z",
     "iopub.status.idle": "2025-03-22T22:28:26.675313Z",
     "shell.execute_reply": "2025-03-22T22:28:26.674021Z",
     "shell.execute_reply.started": "2025-03-22T22:28:25.382863Z"
    },
    "trusted": true
   },
   "outputs": [],
   "source": [
    "# Example usage:\n",
    "image_path = \"/kaggle/input/human-faces/Humans/1 (1).jpeg\"  # Replace with a valid image path\n",
    "\n",
    "print(f\"Predicted Age (Local): {predict_age(image_path)}\")\n"
   ]
  },
  {
   "cell_type": "code",
   "execution_count": null,
   "metadata": {
    "execution": {
     "iopub.execute_input": "2025-03-22T22:28:26.676662Z",
     "iopub.status.busy": "2025-03-22T22:28:26.676382Z",
     "iopub.status.idle": "2025-03-22T22:28:27.212146Z",
     "shell.execute_reply": "2025-03-22T22:28:27.210843Z",
     "shell.execute_reply.started": "2025-03-22T22:28:26.676638Z"
    },
    "trusted": true
   },
   "outputs": [],
   "source": [
    "# Example usage:\n",
    "image_path = \"/kaggle/input/human-faces/Humans/1 (1).jpg\"  # Replace with a valid image path\n",
    "\n",
    "print(f\"Predicted Age (Local): {predict_age(image_path)}\")\n"
   ]
  },
  {
   "cell_type": "code",
   "execution_count": null,
   "metadata": {
    "execution": {
     "iopub.execute_input": "2025-03-22T22:30:03.859830Z",
     "iopub.status.busy": "2025-03-22T22:30:03.859454Z",
     "iopub.status.idle": "2025-03-22T22:30:04.337196Z",
     "shell.execute_reply": "2025-03-22T22:30:04.336226Z",
     "shell.execute_reply.started": "2025-03-22T22:30:03.859802Z"
    },
    "trusted": true
   },
   "outputs": [],
   "source": [
    "# Example usage:\n",
    "image_path = \"/kaggle/input/human-faces/Humans/1 (100).png\"  # Replace with a valid image path\n",
    "\n",
    "print(f\"Predicted Age (Local): {predict_age(image_path)}\")\n"
   ]
  },
  {
   "cell_type": "code",
   "execution_count": null,
   "metadata": {
    "execution": {
     "iopub.execute_input": "2025-03-22T22:30:25.237017Z",
     "iopub.status.busy": "2025-03-22T22:30:25.236668Z",
     "iopub.status.idle": "2025-03-22T22:30:26.026912Z",
     "shell.execute_reply": "2025-03-22T22:30:26.025854Z",
     "shell.execute_reply.started": "2025-03-22T22:30:25.236968Z"
    },
    "trusted": true
   },
   "outputs": [],
   "source": [
    "# Example usage:\n",
    "image_path = \"/kaggle/input/human-faces/Humans/1 (101).png\"  # Replace with a valid image path\n",
    "\n",
    "print(f\"Predicted Age (Local): {predict_age(image_path)}\")\n"
   ]
  },
  {
   "cell_type": "code",
   "execution_count": null,
   "metadata": {
    "trusted": true
   },
   "outputs": [],
   "source": []
  }
 ],
 "metadata": {
  "kaggle": {
   "accelerator": "none",
   "dataSources": [
    {
     "datasetId": 885385,
     "sourceId": 1504266,
     "sourceType": "datasetVersion"
    }
   ],
   "dockerImageVersionId": 30918,
   "isGpuEnabled": false,
   "isInternetEnabled": true,
   "language": "python",
   "sourceType": "notebook"
  },
  "kernelspec": {
   "display_name": "Python 3",
   "language": "python",
   "name": "python3"
  },
  "language_info": {
   "codemirror_mode": {
    "name": "ipython",
    "version": 3
   },
   "file_extension": ".py",
   "mimetype": "text/x-python",
   "name": "python",
   "nbconvert_exporter": "python",
   "pygments_lexer": "ipython3",
   "version": "3.10.12"
  }
 },
 "nbformat": 4,
 "nbformat_minor": 4
}
